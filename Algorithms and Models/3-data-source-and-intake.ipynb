{
 "cells": [
  {
   "cell_type": "markdown",
   "id": "f9e714cb-39fb-475e-844e-3d46455631ce",
   "metadata": {
    "id": "f9e714cb-39fb-475e-844e-3d46455631ce"
   },
   "source": [
    "## Data Intake, Cleaning, and Enrichment Steps\n",
    "Below is a general summary of what was done for data intake, cleaning, and enrichment. Followed is the code used. **DO NOT** run any cells as some are configured to read or write files relative your current working directory and may override correct data files. This is because in reality, much of this code was contained in their own notebooks to enable staged progress and enable group feedback. As such, many cells below are designed to create temporary files as we discussed changes and needs."
   ]
  },
  {
   "cell_type": "markdown",
   "id": "39bd5355-a7c8-4137-8c3d-618d04ff4424",
   "metadata": {
    "id": "39bd5355-a7c8-4137-8c3d-618d04ff4424"
   },
   "source": [
    "**Person Details:** https://dreambank.net/grid.cgi\n",
    "\n",
    "![details](img/details.png)"
   ]
  },
  {
   "cell_type": "markdown",
   "id": "19dd9012-6df1-4d11-9b20-b83a431afcd6",
   "metadata": {
    "id": "19dd9012-6df1-4d11-9b20-b83a431afcd6"
   },
   "source": [
    "1. download the html into a tree based data structure\n",
    "2. remove elements that arent apart of the table\n",
    "3. iterate through the elements in the table\n",
    "4. build a dataframe with the elements and a bit of cleaning\n",
    "5. enrich with desirable columns and associations\n",
    "6. save to csv"
   ]
  },
  {
   "cell_type": "markdown",
   "id": "69279923-3976-414c-8f81-5b9264144415",
   "metadata": {
    "id": "69279923-3976-414c-8f81-5b9264144415"
   },
   "source": [
    "![details_fin](img/details_fin.png)"
   ]
  },
  {
   "cell_type": "markdown",
   "id": "a0fa4123-c5c1-460e-aab2-ba150f3abea1",
   "metadata": {
    "id": "a0fa4123-c5c1-460e-aab2-ba150f3abea1"
   },
   "source": [
    "**Dream Journals** https://dreambank.net/random_sample.cgi\n",
    "\n",
    "![dreams](img/dreams.png)"
   ]
  },
  {
   "cell_type": "markdown",
   "id": "e780fa09-6cf3-4c54-a078-2678702d9c44",
   "metadata": {
    "id": "e780fa09-6cf3-4c54-a078-2678702d9c44"
   },
   "source": [
    "1. got control of a browser with python\n",
    "2. iteratively\n",
    "    * select each person in the drop down (the text contains the number of samples)\n",
    "    * copy that persons number of samples (the amount of dreams recorded)\n",
    "    * paste it in how many dreams to find (meaning all of them)\n",
    "    * clear the minimum and maximum word counts (to get all words)\n",
    "    * press search"
   ]
  },
  {
   "cell_type": "markdown",
   "id": "0446e2fc-3d31-4413-898a-e09305153899",
   "metadata": {
    "id": "0446e2fc-3d31-4413-898a-e09305153899"
   },
   "source": [
    "![diaries](img/diaries.png)"
   ]
  },
  {
   "cell_type": "markdown",
   "id": "88218153-f320-427b-8a47-d1b62d9f7126",
   "metadata": {
    "id": "88218153-f320-427b-8a47-d1b62d9f7126"
   },
   "source": [
    "2. cont.\n",
    "    * copy all content into a string\n",
    "    * split into 2 arrays of strings (number and date) (dream content)\n",
    "    * combine into a dataframe\n",
    "    * cleaned it\n",
    "    * enrich with the VADER sentiment\n",
    "    * repeat for all 94 people\n",
    "3. save dataframes to csv's"
   ]
  },
  {
   "cell_type": "markdown",
   "id": "ddc767d6-5dc1-4ce9-a8c1-c8046214fff5",
   "metadata": {
    "id": "ddc767d6-5dc1-4ce9-a8c1-c8046214fff5"
   },
   "source": [
    "![files](img/files.png)"
   ]
  },
  {
   "cell_type": "markdown",
   "id": "01ea4d2d-6117-445b-b1d6-4eb31582fff8",
   "metadata": {
    "id": "01ea4d2d-6117-445b-b1d6-4eb31582fff8"
   },
   "source": [
    "![struct](img/struct.png)"
   ]
  },
  {
   "cell_type": "markdown",
   "id": "75af2924-8a65-4b5e-970c-9751334a942e",
   "metadata": {},
   "source": [
    "**Helper Datasets:** positive, neutral, negative, and compound descriptive summaries\n",
    "1. Iteratively apply the pandas.describe() method to subsets of the diaries.\n",
    "2. Accumulate into a dataframe.\n",
    "3. Add diary association.\n",
    "4. Write to csv\n",
    "5. Repeat for each sentiment type."
   ]
  },
  {
   "cell_type": "markdown",
   "id": "cf5231bf-03cf-4547-95e4-bb637a1e2e59",
   "metadata": {},
   "source": [
    "`neutral_summary.csv` (example below), `positive_summary.csv`, `negative_summary.csv`, `compound_summary.csv`\n",
    "\n",
    "![summary](img/summary.png)"
   ]
  },
  {
   "cell_type": "markdown",
   "id": "cf6e32a8-803d-4e77-adc2-2cd111a69ea7",
   "metadata": {},
   "source": [
    "---"
   ]
  },
  {
   "cell_type": "markdown",
   "id": "b1af41c9-7530-4dc1-b62d-938603f96b32",
   "metadata": {},
   "source": [
    "## Initial Intake Notebook"
   ]
  },
  {
   "cell_type": "markdown",
   "id": "168dc66c-6bd1-493d-a857-4b02591ac208",
   "metadata": {
    "id": "065c817f-aeee-49d1-a0f8-f9502e338670"
   },
   "source": [
    "Detailed description of each person:\n",
    "\n",
    "https://dreambank.net/grid.cgi\n",
    "\n",
    "Some ways this data has been used:\n",
    "\n",
    "https://dreams.ucsc.edu/Library/domhoff_2008c.html"
   ]
  },
  {
   "cell_type": "markdown",
   "id": "0cf4c2c3-787b-4b71-b437-319353a8ecc2",
   "metadata": {
    "id": "e22c0c13-83ea-487a-948d-e9ad1f7bfbfd"
   },
   "source": [
    "Goal: Get all of the available dreams from dreambank.net\n",
    "Plan:\n",
    "- [ ] Scrape the data from https://dreambank.net/random_sample.cgi\n",
    "- [ ] Scrape the descriptions from https://dreambank.net/grid.cgi\n",
    "- [ ] Compile into a single csv if possible.\n",
    "- [ ] Construct a useable data dictionary.\n",
    "\n",
    "\n",
    "#### Stage 1 Scrape:\n",
    "1. go to https://dreambank.net/random_sample.cgi\n",
    "2. find __select__ tag with __name=\"series\"__ and __id=\"select:series\"__ attributes.\n",
    "3. for each __option__ tag within the select tag, __focus__ each option and get\n",
    "    1. sample size, formatted as `[n=321]`\n",
    "4. find __input__ tag with __name=\"min\"__ attribute and clear it\n",
    "5. find __input__ tag with __name=\"max\"__ attribute and clear it\n",
    "6. find __input__ tag with __name=\"n\"__ attribute and replace with the sample size found from above.\n",
    "7. find __input__ tag with __type=\"submit\"__ and __value=\"Search\"__ attributes and submit.\n",
    "8. copy everything within the body tag into its own text file."
   ]
  },
  {
   "cell_type": "code",
   "execution_count": null,
   "id": "cff7373e-aee2-469d-9253-4a7f16d0fd2f",
   "metadata": {
    "id": "769bce30-12e1-43ef-89a1-ac039745f426"
   },
   "outputs": [],
   "source": [
    "# !pip3 install selenium"
   ]
  },
  {
   "cell_type": "code",
   "execution_count": null,
   "id": "842554d7-c103-48a1-8362-d66f7d2eb220",
   "metadata": {
    "id": "f0884093-5eec-4c76-9076-daf36006510d"
   },
   "outputs": [],
   "source": [
    "from selenium import webdriver\n",
    "from selenium.webdriver.common.by import By\n",
    "from selenium.webdriver.support.ui import Select\n",
    "\n",
    "import numpy as np\n",
    "import pandas as pd\n",
    "\n",
    "import re"
   ]
  },
  {
   "cell_type": "code",
   "execution_count": null,
   "id": "4a06bae4-29f4-4cb7-953a-64868ee0ca2e",
   "metadata": {
    "id": "981d1e50-5207-4439-9b8b-6581b1fff7e2"
   },
   "outputs": [],
   "source": [
    "url = \"https://dreambank.net/random_sample.cgi\"\n",
    "driver = webdriver.Chrome()\n",
    "driver.get(url)"
   ]
  },
  {
   "cell_type": "code",
   "execution_count": null,
   "id": "a4835255-7d75-4662-a68a-6f45cb9402cb",
   "metadata": {
    "id": "2a73662b-a368-4904-a080-17f15ab88341"
   },
   "outputs": [],
   "source": [
    "number_of_options = 95\n",
    "for option_number in range(1, number_of_options):\n",
    "    dropdown = Select(driver.find_element(By.ID, 'select:series'))\n",
    "    dropdown.select_by_index(option_number)\n",
    "    n = dropdown.options[option_number].text.split('=')[1][:-1]\n",
    "    driver.find_element(By.NAME, 'min').clear()\n",
    "    driver.find_element(By.NAME, 'max').clear()\n",
    "    driver.find_element(By.NAME, 'n').clear()\n",
    "    driver.find_element(By.NAME, 'n').send_keys(n)\n",
    "    driver.find_element(By.TAG_NAME, 'input').submit()\n",
    "    with open(f'raw_diary_files/{option_number}.txt', 'w') as file:\n",
    "        file.write(driver.find_element(By.TAG_NAME, 'body').text)\n",
    "    driver.back()"
   ]
  },
  {
   "cell_type": "markdown",
   "id": "d7650345-ec54-47ca-b846-7bcbe8e34dd4",
   "metadata": {
    "id": "25d0a557-5305-415f-b74a-4d5595cee9a0"
   },
   "source": [
    "#### Stage 2 Scrape\n",
    "\n",
    "https://dreambank.net/grid.cgi\n",
    "\n",
    "Initial Format:\n",
    "\n",
    "name, sex, years, number_of_dreams, description\n",
    "\n",
    "selectors to use:\n",
    "* table tag, columns 0, 3, 4, 5\n",
    "\n",
    "Steps Used:\n",
    "1. manually copied and pasted descriptions and table into two seperate files.\n",
    "2."
   ]
  },
  {
   "cell_type": "code",
   "execution_count": null,
   "id": "6ad9ec4f-9dc9-4e33-afb3-79de7c954f21",
   "metadata": {
    "id": "2b14ec4e-6f92-4757-a7ab-e02f21ca4ef6"
   },
   "outputs": [],
   "source": [
    "lines = []\n",
    "with open('raw_table.txt', 'r') as file:\n",
    "    raw_lines = file.readlines()\n",
    "    for raw_line in raw_lines:\n",
    "        lines.append([\n",
    "            item\n",
    "            for item in raw_line.split('\\t')\n",
    "            if item != '[info]'\n",
    "            if item != ''\n",
    "        ])"
   ]
  },
  {
   "cell_type": "code",
   "execution_count": null,
   "id": "02c44f47-348f-4d2d-bef6-83237d659a62",
   "metadata": {
    "id": "12792339-5015-4f84-b9b3-b566a4d92e54"
   },
   "outputs": [],
   "source": [
    "lines = [\n",
    "    '|'.join(item).lower()\n",
    "    for item in lines\n",
    "]"
   ]
  },
  {
   "cell_type": "code",
   "execution_count": null,
   "id": "aedc2e39-01d6-41c7-9f91-261125d3739d",
   "metadata": {
    "id": "259684ef-88e3-4d1d-a7bc-b9072c2dd95d"
   },
   "outputs": [],
   "source": [
    "with open('almost.txt', 'w') as file:\n",
    "    file.writelines(lines)"
   ]
  },
  {
   "cell_type": "markdown",
   "id": "8d5369b5-f583-4325-85c3-638cbf707d0e",
   "metadata": {
    "id": "c7b8dc0c-8130-4fde-8e39-9d70a7f38bcd"
   },
   "source": [
    "#### make csv of person(s) | sex | year(s) ...txt"
   ]
  },
  {
   "cell_type": "code",
   "execution_count": null,
   "id": "660c638a-ff21-47e9-8e7d-07657774b0a5",
   "metadata": {
    "id": "19ba26c8-0163-430e-90df-fca0016a90ca"
   },
   "outputs": [],
   "source": [
    "lines = []\n",
    "with open('person(s) | sex | year(s) | dream_count.txt', 'r') as f_in:\n",
    "    lines.append('person(s)|sex|year(s)|entry_count\\n')\n",
    "    for line in f_in.readlines():\n",
    "        lines.append(line)\n",
    "\n",
    "lines = [\n",
    "    line.replace(',', '')\n",
    "    for line in lines\n",
    "]\n",
    "\n",
    "lines = [\n",
    "    line.replace('|', ',')\n",
    "    for line in lines\n",
    "]\n",
    "\n",
    "with open('some_diary_details.csv', 'w') as f_out:\n",
    "    f_out.write(''.join(lines))"
   ]
  },
  {
   "cell_type": "markdown",
   "id": "25e7b0c3-72c3-4ba0-9911-944d522e0377",
   "metadata": {
    "id": "4dd69187-1c6c-4fbb-b224-2f4e8b39c534"
   },
   "source": [
    "Ended up doing a few manual edits afterwords (an extra ',' on a few lines)."
   ]
  },
  {
   "cell_type": "markdown",
   "id": "252bbf34-c067-4b34-893b-bc4fbbfe16c3",
   "metadata": {
    "id": "2181fd15-bdf7-4f90-8385-2d526ed6e648"
   },
   "source": [
    "#### Now the main content"
   ]
  },
  {
   "cell_type": "code",
   "execution_count": null,
   "id": "77eef481-2ad0-40b7-978e-0cf9fcb67fd7",
   "metadata": {
    "id": "16a6d799-59b9-4ef4-92ef-182f76b0f30e"
   },
   "outputs": [],
   "source": [
    "for i in range(1, 95):\n",
    "    with open(f'raw_diary_files/{i}.txt', 'r') as file:\n",
    "        lines = file.readlines()\n",
    "        text = ''.join(lines[3:-1])\n",
    "        # Splitting the text by the regex pattern\n",
    "        parts = re.split(r'\\(\\d+ words\\)\\n', text)\n",
    "\n",
    "        entry_headers = []\n",
    "        entry_content = []\n",
    "        for part in parts:\n",
    "            entry_lines = part.split('\\n')\n",
    "            entry_headers.append(entry_lines[0])\n",
    "            entry_content.append(''.join(entry_lines[2:]))\n",
    "\n",
    "        combined_lines = [\n",
    "            f'{head}|{content}'\n",
    "            for head, content in zip(entry_headers, entry_content)\n",
    "        ]\n",
    "\n",
    "        combined_lines.insert(0, 'raw_number|content')\n",
    "\n",
    "        with open(f'almost_clean/diary{\"0\" + str(i) if i < 10 else str(i)}.csv', 'w') as f:\n",
    "            f.write('\\n'.join(combined_lines))"
   ]
  },
  {
   "cell_type": "markdown",
   "id": "ffa95d0f-7323-4915-acd2-f63334e1261f",
   "metadata": {},
   "source": [
    "---"
   ]
  },
  {
   "cell_type": "markdown",
   "id": "2d838b58-aa28-41d9-bd06-372eb1847ea4",
   "metadata": {
    "id": "8e5c24ff-d3ca-4be1-9186-247dadb81ffe"
   },
   "source": [
    "## Person Details Notebook"
   ]
  },
  {
   "cell_type": "code",
   "execution_count": null,
   "id": "a60ac68c-187c-4d3f-860a-05de61dacee6",
   "metadata": {},
   "outputs": [],
   "source": [
    "with open('./raw/raw_descriptions.txt', 'r') as f:\n",
    "    content = f.read()\n",
    "\n",
    "content = content.split('[top]\\n')[1:]\n",
    "content[:5]"
   ]
  },
  {
   "cell_type": "code",
   "execution_count": null,
   "id": "252e873f-0b88-424d-9754-82dfb054243a",
   "metadata": {},
   "outputs": [],
   "source": [
    "persons = [\n",
    "    person.split('\\n')[0].lower().replace(',', '')\n",
    "    for person in content\n",
    "]\n",
    "\n",
    "persons[:5]"
   ]
  },
  {
   "cell_type": "code",
   "execution_count": null,
   "id": "44a467b8-dd6b-46ae-9900-6a5e769c837c",
   "metadata": {},
   "outputs": [],
   "source": [
    "# why 90 ???\n",
    "len(persons)"
   ]
  },
  {
   "cell_type": "code",
   "execution_count": null,
   "id": "0ff03232-38de-4bf8-af64-f45a335ce644",
   "metadata": {},
   "outputs": [],
   "source": [
    "descriptions = [\n",
    "    ''.join(description.split('\\n')[1:])\n",
    "    for description in content\n",
    "]\n",
    "\n",
    "descriptions[:5]"
   ]
  },
  {
   "cell_type": "code",
   "execution_count": null,
   "id": "3d43d5c3-f482-4c86-b7c8-dba52409e10b",
   "metadata": {},
   "outputs": [],
   "source": [
    "# why 90 ???\n",
    "len(descriptions)"
   ]
  },
  {
   "cell_type": "code",
   "execution_count": null,
   "id": "3c81597b-ba4a-4151-8804-7b84dfe1c2d9",
   "metadata": {},
   "outputs": [],
   "source": [
    "missing_people = [\n",
    "    'izzy age 18-21',\n",
    "    'izzy age 22-25',\n",
    "    'sally: a forester',\n",
    "    'van: a video gamer'\n",
    "]\n",
    "ref_people = [\n",
    "    'izzy age 17',\n",
    "    'izzy age 18-21',\n",
    "    'robert bosnak: a dream analyst',\n",
    "    'ucsc women 1996'\n",
    "]"
   ]
  },
  {
   "cell_type": "code",
   "execution_count": null,
   "id": "cfa71ae3-3610-41e7-b063-5d007223cf62",
   "metadata": {},
   "outputs": [],
   "source": [
    "for i, ref_person in enumerate(ref_people):\n",
    "    insert_point = persons.index(ref_person) + 1\n",
    "    persons.insert(insert_point, missing_people[i])\n",
    "    descriptions.insert(insert_point, 'na')"
   ]
  },
  {
   "cell_type": "code",
   "execution_count": null,
   "id": "6137bbc4-f7b8-4c62-b372-98a9f51b831f",
   "metadata": {},
   "outputs": [],
   "source": [
    "import pandas as pd"
   ]
  },
  {
   "cell_type": "code",
   "execution_count": null,
   "id": "02651ea0-af6b-49f7-bd91-1dc0b8f15043",
   "metadata": {},
   "outputs": [],
   "source": [
    "temp = pd.DataFrame({\n",
    "    'person': persons,\n",
    "    'description': descriptions\n",
    "})\n",
    "temp.shape"
   ]
  },
  {
   "cell_type": "code",
   "execution_count": null,
   "id": "eb7f18e5-480b-40a8-b2ef-93951b0b22ad",
   "metadata": {},
   "outputs": [],
   "source": [
    "temp.sample(5)"
   ]
  },
  {
   "cell_type": "code",
   "execution_count": null,
   "id": "5e7d87f6-e18b-4389-bbff-565abc6b8bc4",
   "metadata": {},
   "outputs": [],
   "source": [
    "df = pd.read_csv('person_details.csv')\n",
    "df = df.merge(temp, on='person', how='inner')\n",
    "df.sample(5)"
   ]
  },
  {
   "cell_type": "code",
   "execution_count": null,
   "id": "782c7fe6-5686-4cb8-b935-70350775c0eb",
   "metadata": {},
   "outputs": [],
   "source": [
    "df = df[['id', 'diary_ref', 'person', 'description', 'sex', 'sex_code', 'year', 'entry_count']]\n",
    "df.sample(5)"
   ]
  },
  {
   "cell_type": "code",
   "execution_count": null,
   "id": "40d0e7fe-9280-4630-9cba-d14e93bb6bed",
   "metadata": {},
   "outputs": [],
   "source": [
    "df.to_csv('person_details.csv')"
   ]
  },
  {
   "cell_type": "markdown",
   "id": "3291151d-8e8d-4e3b-94c2-d62fdc41e206",
   "metadata": {
    "tags": []
   },
   "source": [
    "#### Explorations as to why there were only 90 people/descriptions, but there should be 94 entries."
   ]
  },
  {
   "cell_type": "code",
   "execution_count": null,
   "id": "7954873a-5313-4439-98a5-e925847e0c7e",
   "metadata": {},
   "outputs": [],
   "source": [
    "with open('./raw/raw_descriptions.txt', 'r') as f:\n",
    "    test = f.read()\n",
    "\n",
    "len(test.split('[top]'))"
   ]
  },
  {
   "cell_type": "markdown",
   "id": "12aa51c9-4423-4520-982d-29a9c7cfeb5e",
   "metadata": {},
   "source": [
    "It appears these people do not have descriptions (based on the no [info] link at https://dreambank.net/grid.cgi)\n",
    "\n",
    "    Izzy, age 18-21\n",
    "    Izzy, age 22-25\n",
    "    Sally: a forester\n",
    "    Van: a video gamer\n",
    "\n"
   ]
  },
  {
   "cell_type": "markdown",
   "id": "22320df7-853a-42a2-bea9-10833a57c25c",
   "metadata": {},
   "source": [
    "remember, the persons list has been lowered."
   ]
  },
  {
   "cell_type": "code",
   "execution_count": null,
   "id": "fa137bb5-0182-473b-8ddc-b4dc182cb835",
   "metadata": {},
   "outputs": [],
   "source": [
    "# find the above entries from the persons list -> get the index -> -1 from them -> insert after this point"
   ]
  },
  {
   "cell_type": "code",
   "execution_count": null,
   "id": "76bc3a21-0ca2-4672-9248-c8b6e74d09f3",
   "metadata": {},
   "outputs": [],
   "source": [
    "missing_lst = [\n",
    "    'izzy age 18-21',\n",
    "    'izzy age 22-25',\n",
    "    'sally: a forester',\n",
    "    'van: a video gamer'\n",
    "]"
   ]
  },
  {
   "cell_type": "code",
   "execution_count": null,
   "id": "211f6d24-e417-48f7-9189-02439e245347",
   "metadata": {},
   "outputs": [],
   "source": [
    "indices = []\n",
    "for i, person in enumerate(persons):\n",
    "    if person in missing_lst:\n",
    "    indices.append(i)"
   ]
  },
  {
   "cell_type": "markdown",
   "id": "eb1049ec-5d84-4458-9630-d8ed851118ce",
   "metadata": {},
   "source": [
    "Obviously their not in there..."
   ]
  },
  {
   "cell_type": "markdown",
   "id": "f7c8fd40-34ce-4ad1-a839-00f8253cc1cd",
   "metadata": {},
   "source": [
    "check the persons_details.csv"
   ]
  },
  {
   "cell_type": "code",
   "execution_count": null,
   "id": "6337e84d-c18a-4ed0-b9c8-ed6491c0341a",
   "metadata": {},
   "outputs": [],
   "source": [
    "import pandas as pd"
   ]
  },
  {
   "cell_type": "code",
   "execution_count": null,
   "id": "b77a35c5-2401-4fa3-9237-49c377fc3318",
   "metadata": {},
   "outputs": [],
   "source": [
    "temp = pd.read_csv('person_details.csv')\n",
    "temp.head(5)"
   ]
  },
  {
   "cell_type": "code",
   "execution_count": null,
   "id": "898df7f0-7d5b-4688-a34b-f9045aceed0d",
   "metadata": {},
   "outputs": [],
   "source": [
    "indices = [\n",
    "    (i, person)\n",
    "    for i, person in enumerate(temp['person'])\n",
    "    if person in missing_lst\n",
    "]\n",
    "indices"
   ]
  },
  {
   "cell_type": "code",
   "execution_count": null,
   "id": "190574ef-8ec1-4005-8ea7-17cd73259556",
   "metadata": {},
   "outputs": [],
   "source": [
    "temp[ temp['person'].str.contains('izzy') ]"
   ]
  },
  {
   "cell_type": "markdown",
   "id": "c3878d53-2907-4b4f-8c4f-06caea275221",
   "metadata": {},
   "source": [
    "There it is! I forgot to remove the ,\n",
    "\n",
    "Kinda dumb..."
   ]
  },
  {
   "cell_type": "code",
   "execution_count": null,
   "id": "f37f34ac-15db-4559-a892-315688c1a0f8",
   "metadata": {},
   "outputs": [],
   "source": [
    "missing_culprets_indice = [\n",
    "    (40, 'izzy age 18-21'),\n",
    "    (41, 'izzy age 22-25'),\n",
    "    (79, 'sally: a forester'),\n",
    "    (87, 'van: a video gamer'),\n",
    "]"
   ]
  },
  {
   "cell_type": "markdown",
   "id": "a2a9a4ca-cf77-4f41-90e3-3bef5dcbd6a0",
   "metadata": {},
   "source": [
    "#### Phase 2 of Cleaning\n",
    "\n",
    "initial data documentation\n",
    "\n",
    "\n",
    "person_details.csv\n",
    "\n",
    "__id__ : is the id of the person.\n",
    "\n",
    "__diary_ref__ : a reference to the persons diary file.\n",
    "\n",
    "__person__ : persons name, and/or a short description of them, or even their association with someone else...\n",
    "\n",
    "- [ ] maybe figure out a way to extract only the name. NOTE: that for some entries there appears to be associations to other people, for example \"johns wife\" as well as general descriptions such as \"8th grader\". these raise the complexity and will require extensive, if not manual, extraction.\n",
    "- [ ] try to integrate the lengthier description of the person\n",
    "\n",
    "__sex__ : female or male\n",
    "\n",
    "__sex_code__ : female = 1, male = 0\n",
    "\n",
    "- [ ] do this transformation\n",
    "\n",
    "__year__ : the date or range of dates that the person recordered their dreams.\n",
    "\n",
    "- [ ] maybe split into start_date and end_date. this will might resolve the instances of 1995-1996, 2018, and mid 1990s. although with the range of possible formats present, this too will take time.\n",
    "* below is every unique format\n",
    "```\n",
    "?\n",
    "1990s\n",
    "2007-\n",
    "2015\n",
    "2016-2017\n",
    "1940s-1950s & 1990s\n",
    "mid-1990s\n",
    "late 1990s\n",
    "1940s-1950s\n",
    "```\n",
    "__entry_count__ : the number of entries that person recorded."
   ]
  },
  {
   "cell_type": "code",
   "execution_count": null,
   "id": "5dc06688-fe96-4aed-ac71-8a34f7ee6b25",
   "metadata": {},
   "outputs": [],
   "source": [
    "df = pd.read_csv('almost_clean_diary_details.csv')\n",
    "df.sample(5)"
   ]
  },
  {
   "cell_type": "code",
   "execution_count": null,
   "id": "6a66d32c-c5dc-4754-b674-1855497314c4",
   "metadata": {},
   "outputs": [],
   "source": [
    "df['diary_ref'] = [\n",
    "    f'diary{\"0\" + str(i) if i < 10 else str(i)}'\n",
    "    for i in range(1, df.shape[0] + 1)\n",
    "]\n",
    "df.sample(5)"
   ]
  },
  {
   "cell_type": "code",
   "execution_count": null,
   "id": "94591481-9219-4eb6-b7c3-8afe00275926",
   "metadata": {},
   "outputs": [],
   "source": [
    "df['id'] = [\n",
    "    i\n",
    "    for i in range(1, df.shape[0] + 1)\n",
    "]\n",
    "df.sample(5)"
   ]
  },
  {
   "cell_type": "code",
   "execution_count": null,
   "id": "6ea0a3af-d048-44fe-9b6d-e275bbfe60f4",
   "metadata": {},
   "outputs": [],
   "source": [
    "df = df.set_index('id')\n",
    "df.sample(5)"
   ]
  },
  {
   "cell_type": "code",
   "execution_count": null,
   "id": "df99a7af-e92c-4cf9-9308-85ee6e6e67b1",
   "metadata": {},
   "outputs": [],
   "source": [
    "df = df.rename(columns={\n",
    "    'person(s)': 'person',\n",
    "    'year(s)': 'year',\n",
    "})\n",
    "df.sample(5)"
   ]
  },
  {
   "cell_type": "code",
   "execution_count": null,
   "id": "d1a59418-e4de-4833-9589-17971a04de57",
   "metadata": {},
   "outputs": [],
   "source": [
    "df = df[['diary_ref', 'person', 'sex', 'year', 'entry_count']]\n",
    "df.sample(5)"
   ]
  },
  {
   "cell_type": "code",
   "execution_count": null,
   "id": "00fc3bee-7392-4e1f-a845-32e999d5926a",
   "metadata": {},
   "outputs": [],
   "source": [
    "df['sex_code'] = df['sex'].apply(lambda x: 1 if x == 'female' else 0)\n",
    "df.sample(5)"
   ]
  },
  {
   "cell_type": "code",
   "execution_count": null,
   "id": "347f1baa-78be-4fee-95f4-f7c1348daefd",
   "metadata": {},
   "outputs": [],
   "source": [
    "df = df[['diary_ref', 'person', 'sex', 'sex_code', 'year', 'entry_count']]\n",
    "df.sample(5)"
   ]
  },
  {
   "cell_type": "code",
   "execution_count": null,
   "id": "3e9f1f2c-4660-48c9-a2b4-1d7669250468",
   "metadata": {},
   "outputs": [],
   "source": [
    "df['diary_ref'] = df['diary_ref'].apply(lambda x: f'{x}.csv')\n",
    "df.sample(5)"
   ]
  },
  {
   "cell_type": "code",
   "execution_count": null,
   "id": "a0eedbcb-95c5-4706-b44d-e4e1d77f560e",
   "metadata": {},
   "outputs": [],
   "source": [
    "df.to_csv('person_details.csv')"
   ]
  },
  {
   "cell_type": "markdown",
   "id": "25576f8e-4024-4291-8591-5ad101a08fbc",
   "metadata": {},
   "source": [
    "---"
   ]
  },
  {
   "cell_type": "markdown",
   "id": "b1e8723b-6c77-4cd8-aefa-9a3242afe787",
   "metadata": {},
   "source": [
    "## Person Diary Notebook\n",
    "\n",
    "The files for this stage became corrupt and are lost now :( not sure why, or how..."
   ]
  },
  {
   "cell_type": "markdown",
   "id": "a5943aed-462f-4877-9240-a7aaeb93853f",
   "metadata": {},
   "source": [
    "---"
   ]
  },
  {
   "cell_type": "markdown",
   "id": "e2c0018c-978c-41c7-892a-a8d4bd17a8f7",
   "metadata": {},
   "source": [
    "## VADER Enrichment Notebook"
   ]
  },
  {
   "cell_type": "code",
   "execution_count": null,
   "id": "7790d04f-fde5-4fc2-9516-5fb8ffd25e75",
   "metadata": {},
   "outputs": [],
   "source": [
    "analyzer = SentimentIntensityAnalyzer()\n",
    "# analyzer.polarity_scores?"
   ]
  },
  {
   "cell_type": "code",
   "execution_count": null,
   "id": "5ac19213-18e8-4858-adf7-f0e071a4bb10",
   "metadata": {},
   "outputs": [],
   "source": [
    "diary_file_names = [\n",
    "    f\"diary{'0' + str(i) if i < 10 else str(i)}.csv\"\n",
    "    for i in range(1, 95)\n",
    "]\n",
    "diary_file_names[:5]"
   ]
  },
  {
   "cell_type": "markdown",
   "id": "eb3756ea-3f3b-4ebc-84fe-0feaf97bf481",
   "metadata": {},
   "source": [
    "For some unknown reason `diary32.csv`, `diary33.csv`, and `diary41.csv` were unable to fully be read in. Thus, a few days (of several thousands) will be dropped. This should not affect overall evaluation. If time permits, I will investigate further."
   ]
  },
  {
   "cell_type": "code",
   "execution_count": null,
   "id": "2191d183-d5cc-4207-880c-67d53ceee23c",
   "metadata": {},
   "outputs": [],
   "source": [
    "# dropping last row because they are nan's.\n",
    "diary_dfs = [\n",
    "    pd.read_csv(f'diaries/{diary_file_name}', sep='|', on_bad_lines='skip')[:-1]\n",
    "    for diary_file_name in diary_file_names\n",
    "]"
   ]
  },
  {
   "cell_type": "code",
   "execution_count": null,
   "id": "b1dcfc2c-2f33-4b00-ba57-e5b8ea7e07f3",
   "metadata": {},
   "outputs": [],
   "source": [
    "for df in diary_dfs:\n",
    "    score = np.array([\n",
    "        analyzer.polarity_scores(text)\n",
    "        for text in df['content'].values\n",
    "    ])\n",
    "    \n",
    "    df['negative'] = np.array([\n",
    "        d['neg']\n",
    "        for d in score\n",
    "    ])\n",
    "\n",
    "    df['neutral'] = np.array([\n",
    "        d['neu']\n",
    "        for d in score\n",
    "    ])\n",
    "\n",
    "    df['positive'] = np.array([\n",
    "        d['pos']\n",
    "        for d in score\n",
    "    ])\n",
    "\n",
    "    df['compound'] = np.array([\n",
    "        d['compound']\n",
    "        for d in score\n",
    "    ])"
   ]
  },
  {
   "cell_type": "code",
   "execution_count": null,
   "id": "08bb55c9-c54d-421e-aa02-a6f34ba4a523",
   "metadata": {},
   "outputs": [],
   "source": [
    "diary_dfs[0]"
   ]
  },
  {
   "cell_type": "code",
   "execution_count": null,
   "id": "f8da0c1f-a459-45d4-a10e-873e139ae31a",
   "metadata": {},
   "outputs": [],
   "source": [
    "diary_file_names[0]"
   ]
  },
  {
   "cell_type": "code",
   "execution_count": null,
   "id": "c0f60d90-2ae2-4475-8f2b-02e4a52fd9c5",
   "metadata": {},
   "outputs": [],
   "source": [
    "for i, df in enumerate(diary_dfs):\n",
    "    df.to_csv(f'diaries/{diary_file_names[i]}', sep='|')"
   ]
  },
  {
   "cell_type": "markdown",
   "id": "e636ffd9-6f3d-41fd-9cce-ab12be11e90c",
   "metadata": {},
   "source": [
    "---"
   ]
  },
  {
   "cell_type": "markdown",
   "id": "a6de1efa-1a45-4165-a7b7-d45f8e02f052",
   "metadata": {},
   "source": [
    "## Summary Notebook"
   ]
  },
  {
   "cell_type": "code",
   "execution_count": null,
   "id": "daed6853-30f9-41c4-a5ff-0aa5c7efb28c",
   "metadata": {},
   "outputs": [],
   "source": [
    "diary_paths = [\n",
    "    f'diary{\"0\" + str(i) if i < 10 else str(i)}.csv'\n",
    "    for i in range(1, 95)\n",
    "]\n",
    "diary_paths[:5]"
   ]
  },
  {
   "cell_type": "code",
   "execution_count": null,
   "id": "31923c3c-4c11-4214-89f1-118a450ff41d",
   "metadata": {},
   "outputs": [],
   "source": [
    "dfs = []\n",
    "\n",
    "for path in diary_paths:\n",
    "    dfs.append(pd.read_csv(f'data/diaries/{path}', sep='|'))\n",
    "    \n",
    "dfs[:5]"
   ]
  },
  {
   "cell_type": "code",
   "execution_count": null,
   "id": "536a80eb-5fbc-4974-8c00-b438836d5fe4",
   "metadata": {},
   "outputs": [],
   "source": [
    "summs = []\n",
    "\n",
    "for df in dfs:\n",
    "    summs.append(df.describe())"
   ]
  },
  {
   "cell_type": "code",
   "execution_count": null,
   "id": "20557aa4-1b15-43a2-9636-04a8227e203b",
   "metadata": {},
   "outputs": [],
   "source": [
    "summs[0][['negative', 'neutral', 'positive', 'compound']].T"
   ]
  },
  {
   "cell_type": "code",
   "execution_count": null,
   "id": "758842d7-a8cd-4957-bae6-35a3879048a1",
   "metadata": {},
   "outputs": [],
   "source": [
    "summs[0][['negative']].T.loc[['negative']]"
   ]
  },
  {
   "cell_type": "code",
   "execution_count": null,
   "id": "539858a0-a8b2-486e-b3c3-686958e1363d",
   "metadata": {},
   "outputs": [],
   "source": [
    "neg = pd.DataFrame({\n",
    "    'count': [],\n",
    "    'mean': [],\n",
    "    'std': [],\n",
    "    'min': [],\n",
    "    '25%': [],\n",
    "    '50%': [],\n",
    "    '75%': [],\n",
    "    'max': []\n",
    "})\n",
    "neu = pd.DataFrame({\n",
    "    'count': [],\n",
    "    'mean': [],\n",
    "    'std': [],\n",
    "    'min': [],\n",
    "    '25%': [],\n",
    "    '50%': [],\n",
    "    '75%': [],\n",
    "    'max': []\n",
    "})\n",
    "pos = pd.DataFrame({\n",
    "    'count': [],\n",
    "    'mean': [],\n",
    "    'std': [],\n",
    "    'min': [],\n",
    "    '25%': [],\n",
    "    '50%': [],\n",
    "    '75%': [],\n",
    "    'max': []\n",
    "})\n",
    "comp = pd.DataFrame({\n",
    "    'count': [],\n",
    "    'mean': [],\n",
    "    'std': [],\n",
    "    'min': [],\n",
    "    '25%': [],\n",
    "    '50%': [],\n",
    "    '75%': [],\n",
    "    'max': []\n",
    "})"
   ]
  },
  {
   "cell_type": "code",
   "execution_count": null,
   "id": "8677fcd1-5cef-4129-bc1f-f99d51f2dacc",
   "metadata": {},
   "outputs": [],
   "source": [
    "for i in range(len(summs)):\n",
    "    temp = summs[i][['negative', 'neutral', 'positive', 'compound']].T\n",
    "    neg.iloc[i] = temp.loc['negative']\n",
    "    neu.iloc[i] = temp.loc['neutral']\n",
    "    pos.iloc[i] = temp.loc['positive']\n",
    "    comp.iloc[i] = temp.loc['compound']"
   ]
  },
  {
   "cell_type": "code",
   "execution_count": null,
   "id": "b712a401-cb21-4a86-bded-9d48e0e31a07",
   "metadata": {},
   "outputs": [],
   "source": [
    "neg['diary'] = np.arange(1, 95)\n",
    "neg = neg.set_index('diary')\n",
    "neg"
   ]
  },
  {
   "cell_type": "code",
   "execution_count": null,
   "id": "766a3802-c87d-4e88-ac4a-43f3046c4ea6",
   "metadata": {},
   "outputs": [],
   "source": [
    "neg.to_csv('data/negative_summary.csv')"
   ]
  },
  {
   "cell_type": "code",
   "execution_count": null,
   "id": "2dd59d4c-2ae1-4857-a5e1-78075911d697",
   "metadata": {},
   "outputs": [],
   "source": [
    "neu['diary'] = np.arange(1, 95)\n",
    "neu = neu.set_index('diary')\n",
    "neu"
   ]
  },
  {
   "cell_type": "code",
   "execution_count": null,
   "id": "086d630d-367c-41d7-a6ae-384a7ea2dde8",
   "metadata": {},
   "outputs": [],
   "source": [
    "neu.to_csv('data/neutral_summary.csv')"
   ]
  },
  {
   "cell_type": "code",
   "execution_count": null,
   "id": "1347b494-2f16-4fa3-b798-008d2c04fdb4",
   "metadata": {},
   "outputs": [],
   "source": [
    "pos['diary'] = np.arange(1, 95)\n",
    "pos = pos.set_index('diary')\n",
    "pos"
   ]
  },
  {
   "cell_type": "code",
   "execution_count": null,
   "id": "b44dd737-215f-4cf8-9b16-c56bf19cc9ca",
   "metadata": {},
   "outputs": [],
   "source": [
    "pos.to_csv('data/positive_summary.csv')"
   ]
  },
  {
   "cell_type": "code",
   "execution_count": null,
   "id": "11881439-7651-4cb5-85a5-f2dfc84d8913",
   "metadata": {},
   "outputs": [],
   "source": [
    "comp['diary'] = np.arange(1, 95)\n",
    "comp = comp.set_index('diary')\n",
    "comp"
   ]
  },
  {
   "cell_type": "code",
   "execution_count": null,
   "id": "dde83365-c7a0-415f-8a69-1f363b8f3a22",
   "metadata": {},
   "outputs": [],
   "source": [
    "comp.to_csv('data/compound_summary.csv')"
   ]
  },
  {
   "cell_type": "markdown",
   "id": "79dcaa33-46ee-444d-871c-cd8290b57c6e",
   "metadata": {},
   "source": [
    "---"
   ]
  },
  {
   "cell_type": "code",
   "execution_count": null,
   "id": "e88466e6-53a8-4782-bb0f-356b89c16f1b",
   "metadata": {},
   "outputs": [],
   "source": []
  }
 ],
 "metadata": {
  "colab": {
   "provenance": []
  },
  "kernelspec": {
   "display_name": "Python 3 (ipykernel)",
   "language": "python",
   "name": "python3"
  },
  "language_info": {
   "codemirror_mode": {
    "name": "ipython",
    "version": 3
   },
   "file_extension": ".py",
   "mimetype": "text/x-python",
   "name": "python",
   "nbconvert_exporter": "python",
   "pygments_lexer": "ipython3",
   "version": "3.11.5"
  }
 },
 "nbformat": 4,
 "nbformat_minor": 5
}
